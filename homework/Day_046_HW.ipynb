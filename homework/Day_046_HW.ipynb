{
 "cells": [
  {
   "cell_type": "markdown",
   "metadata": {},
   "source": [
    "### 作業\n",
    "目前已經學過許多的模型，相信大家對整體流程應該比較掌握了，這次作業請改用**手寫辨識資料集**，步驟流程都是一樣的，請試著自己撰寫程式碼來完成所有步驟"
   ]
  },
  {
   "cell_type": "code",
   "execution_count": 13,
   "metadata": {},
   "outputs": [],
   "source": [
    "from sklearn import datasets, metrics\n",
    "from sklearn.ensemble import GradientBoostingClassifier\n",
    "from sklearn.model_selection import train_test_split\n",
    "digits = datasets.load_digits()"
   ]
  },
  {
   "cell_type": "code",
   "execution_count": 14,
   "metadata": {},
   "outputs": [],
   "source": [
    "x_train, x_test, y_train, y_test = train_test_split(digits.data, digits.target, test_size=0.25, random_state=4)\n",
    "\n",
    "# 建立模型\n",
    "clf = GradientBoostingClassifier()\n",
    "\n",
    "# 訓練模型\n",
    "clf.fit(x_train, y_train)\n",
    "\n",
    "# 預測測試集\n",
    "y_pred = clf.predict(x_test)"
   ]
  },
  {
   "cell_type": "code",
   "execution_count": 15,
   "metadata": {},
   "outputs": [
    {
     "name": "stdout",
     "output_type": "stream",
     "text": [
      "Feature importance:  [0.00000000e+00 1.34521104e-03 7.74876880e-03 7.14676318e-03\n",
      " 2.26224985e-03 5.28997237e-02 1.01242655e-02 3.87589702e-05\n",
      " 0.00000000e+00 1.69120036e-03 1.11642247e-02 6.99393816e-04\n",
      " 5.76852603e-03 1.40536189e-02 2.17714055e-03 5.99343784e-04\n",
      " 3.40327443e-04 2.88317839e-03 1.11978086e-02 3.38170839e-02\n",
      " 2.49239823e-02 9.02580198e-02 6.52549628e-03 1.66170654e-09\n",
      " 2.44443336e-04 2.00671755e-03 4.77087927e-02 1.96751777e-02\n",
      " 3.63102927e-02 2.33391699e-02 9.00756156e-03 4.90570414e-04\n",
      " 0.00000000e+00 6.13236488e-02 4.07074300e-03 9.71747887e-04\n",
      " 7.07509832e-02 1.25564194e-02 2.01839480e-02 0.00000000e+00\n",
      " 0.00000000e+00 9.38197654e-03 8.80023757e-02 6.38704453e-02\n",
      " 1.21665314e-02 1.79166388e-02 1.65273962e-02 5.46341991e-04\n",
      " 0.00000000e+00 1.02049192e-03 7.38014805e-03 2.11878911e-02\n",
      " 1.07681835e-02 1.54329932e-02 2.21362229e-02 1.51821586e-04\n",
      " 0.00000000e+00 3.74679124e-04 2.96727561e-02 2.12882992e-03\n",
      " 4.96155863e-02 7.57967937e-03 1.88000317e-02 9.03367558e-03]\n"
     ]
    }
   ],
   "source": [
    "\n",
    "\n",
    "#print(digits.feature_names)\n",
    "print(\"Feature importance: \", clf.feature_importances_)"
   ]
  },
  {
   "cell_type": "code",
   "execution_count": null,
   "metadata": {},
   "outputs": [],
   "source": []
  }
 ],
 "metadata": {
  "kernelspec": {
   "display_name": "Python 3",
   "language": "python",
   "name": "python3"
  },
  "language_info": {
   "codemirror_mode": {
    "name": "ipython",
    "version": 3
   },
   "file_extension": ".py",
   "mimetype": "text/x-python",
   "name": "python",
   "nbconvert_exporter": "python",
   "pygments_lexer": "ipython3",
   "version": "3.7.3"
  }
 },
 "nbformat": 4,
 "nbformat_minor": 2
}
