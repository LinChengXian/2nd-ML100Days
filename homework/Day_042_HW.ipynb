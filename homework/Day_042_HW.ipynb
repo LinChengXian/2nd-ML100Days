{
 "cells": [
  {
   "cell_type": "markdown",
   "metadata": {},
   "source": [
    "## [作業重點]\n",
    "目前你應該已經要很清楚資料集中，資料的型態是什麼樣子囉！包含特徵 (features) 與標籤 (labels)。因此要記得未來不管什麼專案，必須要把資料清理成相同的格式，才能送進模型訓練。\n",
    "今天的作業開始踏入決策樹這個非常重要的模型，請務必確保你理解模型中每個超參數的意思，並試著調整看看，對最終預測結果的影響為何"
   ]
  },
  {
   "cell_type": "markdown",
   "metadata": {},
   "source": [
    "## 作業\n",
    "\n",
    "1. 試著調整 DecisionTreeClassifier(...) 中的參數，並觀察是否會改變結果？\n",
    "2. 改用其他資料集 (boston, wine)，並與回歸模型的結果進行比較"
   ]
  },
  {
   "cell_type": "code",
   "execution_count": 1,
   "metadata": {},
   "outputs": [],
   "source": [
    "from sklearn import datasets, metrics\n",
    "\n",
    "# 如果是分類問題，請使用 DecisionTreeClassifier，若為回歸問題，請使用 DecisionTreeRegressor\n",
    "from sklearn.tree import DecisionTreeClassifier, DecisionTreeRegressor\n",
    "from sklearn.model_selection import train_test_split"
   ]
  },
  {
   "cell_type": "code",
   "execution_count": 2,
   "metadata": {},
   "outputs": [
    {
     "name": "stdout",
     "output_type": "stream",
     "text": [
      "[24.43333333 25.225      21.33333333 24.43333333 44.275      23.53333333\n",
      " 33.625      15.42       10.5        15.55       35.83333333 27.5\n",
      " 19.3        24.2        20.95       13.75       22.96       10.03333333\n",
      " 10.5        16.9         9.63333333 15.55       20.8        18.5\n",
      " 17.         20.03333333 24.43333333 16.7        23.1        20.925\n",
      " 12.975      24.16666667 41.3        20.53333333 20.175      12.56\n",
      " 32.66666667 48.275      25.02       23.875      45.53333333 35.83333333\n",
      " 11.33333333 35.83333333 28.23333333 21.16       50.         18.03333333\n",
      " 23.1        20.95       31.575     ]\n"
     ]
    }
   ],
   "source": [
    "boston = datasets.load_boston()\n",
    "#print(\"Data shape: \", X.shape)\n",
    "# 切分訓練集/測試集\n",
    "x_train, x_test, y_train, y_test = train_test_split(boston.data, boston.target, test_size=0.1, random_state=4)\n",
    "\n",
    "# 建立模型\n",
    "DTC = DecisionTreeRegressor(\n",
    "                            max_depth=None,\n",
    "                            min_samples_split=6,\n",
    "                            min_samples_leaf=3)\n",
    "                \n",
    "\n",
    "# 訓練模型\n",
    "DTC.fit(x_train, y_train)\n",
    "\n",
    "# 預測測試集\n",
    "y_pred = DTC.predict(x_test)\n",
    "print(y_pred)\n"
   ]
  },
  {
   "cell_type": "code",
   "execution_count": 3,
   "metadata": {},
   "outputs": [
    {
     "name": "stdout",
     "output_type": "stream",
     "text": [
      "['CRIM' 'ZN' 'INDUS' 'CHAS' 'NOX' 'RM' 'AGE' 'DIS' 'RAD' 'TAX' 'PTRATIO'\n",
      " 'B' 'LSTAT']\n"
     ]
    }
   ],
   "source": [
    "print(boston.feature_names)"
   ]
  },
  {
   "cell_type": "code",
   "execution_count": 5,
   "metadata": {},
   "outputs": [
    {
     "name": "stdout",
     "output_type": "stream",
     "text": [
      "Feature importance:  [3.85496605e-02 8.90637715e-04 1.40290830e-03 0.00000000e+00\n",
      " 1.53699933e-02 5.81628419e-01 8.85712592e-03 8.10896606e-02\n",
      " 7.70250446e-05 1.01017905e-02 2.65103486e-02 6.49868207e-03\n",
      " 2.29023749e-01]\n"
     ]
    }
   ],
   "source": [
    "print(\"Feature importance: \", DTC.feature_importances_)"
   ]
  },
  {
   "cell_type": "code",
   "execution_count": 6,
   "metadata": {},
   "outputs": [
    {
     "name": "stdout",
     "output_type": "stream",
     "text": [
      "[-25.67383889  -4.72852882 -13.43014881  -5.13809524 -76.41571429\n",
      " -42.65223492 -40.65839841]\n",
      "-29.813851339285716\n",
      "Acuuracy:  0.7635998632462585\n"
     ]
    }
   ],
   "source": [
    "from sklearn.model_selection import cross_val_score\n",
    "\n",
    "scores=cross_val_score(DTC,x_test,y_test,cv=7,scoring='neg_mean_squared_error')\n",
    "print(scores)\n",
    "print(scores.mean())\n",
    "acc = DTC.score(x_test, y_test)\n",
    "print(\"Acuuracy: \", acc)"
   ]
  },
  {
   "cell_type": "code",
   "execution_count": null,
   "metadata": {},
   "outputs": [],
   "source": []
  }
 ],
 "metadata": {
  "kernelspec": {
   "display_name": "Python 3",
   "language": "python",
   "name": "python3"
  },
  "language_info": {
   "codemirror_mode": {
    "name": "ipython",
    "version": 3
   },
   "file_extension": ".py",
   "mimetype": "text/x-python",
   "name": "python",
   "nbconvert_exporter": "python",
   "pygments_lexer": "ipython3",
   "version": "3.7.3"
  }
 },
 "nbformat": 4,
 "nbformat_minor": 2
}
